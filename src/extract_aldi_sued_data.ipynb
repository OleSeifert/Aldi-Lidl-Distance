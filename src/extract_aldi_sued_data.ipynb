{
 "cells": [
  {
   "cell_type": "markdown",
   "id": "7142d9f7",
   "metadata": {},
   "source": [
    "# Extract ALDI Sued Data\n",
    "\n",
    "Scrips to extract the location of ALDI shops."
   ]
  },
  {
   "cell_type": "code",
   "execution_count": null,
   "id": "e449209c",
   "metadata": {},
   "outputs": [],
   "source": [
    "# Save dictionary for all bundesländer in Germany containing the urls of the sides with the overviews:\n",
    "\n",
    "base_url = \"https://filialen.aldi-sued.de\"\n",
    "\n",
    "bundeslaender_urls: dict[str, str] = {\n",
    "    \"BaWue\": f\"{base_url}/baden-wuerttemberg\",\n",
    "    \"Bayern\": f\"{base_url}/bayern\",\n",
    "    \"NRW\": f\"{base_url}/nordrhein-westfalen\",\n",
    "    \"RhePfa\": f\"{base_url}/rheinland-pfalz\",\n",
    "    \"Saar\": f\"{base_url}/saarland\",\n",
    "    \"Hessen\": f\"{base_url}/hessen\",\n",
    "    \"Thueringen\": f\"{base_url}/thueringen\",  # only one store\n",
    "}"
   ]
  },
  {
   "cell_type": "code",
   "execution_count": null,
   "id": "fcb3696b",
   "metadata": {},
   "outputs": [],
   "source": [
    "import xml.etree.ElementTree as ET\n",
    "import requests\n",
    "\n",
    "SM_URL = \"https://filialen.aldi-sued.de/sitemap.xml\"\n",
    "\n",
    "xml_text = requests.get(SM_URL, timeout=20).text"
   ]
  },
  {
   "cell_type": "code",
   "execution_count": 10,
   "id": "cc4b895e",
   "metadata": {},
   "outputs": [],
   "source": [
    "root = ET.fromstring(xml_text)\n",
    "\n",
    "# Save the XML content to a file\n",
    "with open(\"../data/aldi_sitemap.xml\", \"w\", encoding=\"utf-8\") as f:\n",
    "    f.write(xml_text)"
   ]
  },
  {
   "cell_type": "code",
   "execution_count": 11,
   "id": "7bf509ba",
   "metadata": {},
   "outputs": [],
   "source": [
    "NS = {\"sm\": \"http://www.sitemaps.org/schemas/sitemap/0.9\"}  # XML namespace\n",
    "# Extract store URLs from the sitemap XML\n",
    "store_urls = [loc.text for loc in root.findall(\".//sm:loc\", NS)]\n",
    "\n",
    "# Save the store URLs to a text file, one URL per line\n",
    "with open(\"../data/aldi_store_urls.txt\", \"w\", encoding=\"utf-8\") as f:\n",
    "    f.write(\"\\n\".join(store_urls))"
   ]
  },
  {
   "cell_type": "code",
   "execution_count": 8,
   "id": "52cc4296",
   "metadata": {},
   "outputs": [
    {
     "data": {
      "text/plain": [
       "3292"
      ]
     },
     "execution_count": 8,
     "metadata": {},
     "output_type": "execute_result"
    }
   ],
   "source": [
    "len(store_urls)"
   ]
  },
  {
   "cell_type": "code",
   "execution_count": null,
   "id": "26c56c9f",
   "metadata": {},
   "outputs": [],
   "source": []
  }
 ],
 "metadata": {
  "kernelspec": {
   "display_name": "aldi-lidl-distance",
   "language": "python",
   "name": "python3"
  },
  "language_info": {
   "codemirror_mode": {
    "name": "ipython",
    "version": 3
   },
   "file_extension": ".py",
   "mimetype": "text/x-python",
   "name": "python",
   "nbconvert_exporter": "python",
   "pygments_lexer": "ipython3",
   "version": "3.12.2"
  }
 },
 "nbformat": 4,
 "nbformat_minor": 5
}
